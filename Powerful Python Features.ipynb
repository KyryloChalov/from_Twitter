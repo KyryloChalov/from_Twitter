{
 "cells": [
  {
   "cell_type": "markdown",
   "metadata": {},
   "source": [
    "# 13 Powerful Python Features You’re Probably Not Using Enough"
   ]
  },
  {
   "cell_type": "markdown",
   "metadata": {},
   "source": [
    "List Comprehensions\n",
    "\n",
    "List comprehensions provide a concise way to create lists. This can replace the need for using loops to generate lists."
   ]
  },
  {
   "cell_type": "code",
   "execution_count": 2,
   "metadata": {},
   "outputs": [
    {
     "name": "stdout",
     "output_type": "stream",
     "text": [
      "squares:  [0, 1, 4, 9, 16, 25, 36, 49, 64, 81]\n"
     ]
    }
   ],
   "source": [
    "squares = [x**2 for x in range(10)] \n",
    "print('squares: ', squares)"
   ]
  },
  {
   "cell_type": "markdown",
   "metadata": {},
   "source": [
    "Generator Expressions\n",
    "\n",
    "Similar to list comprehensions but with parentheses, generator expressions are used for creating generators. These are memory-efficient and suitable for large data sets."
   ]
  },
  {
   "cell_type": "code",
   "execution_count": 3,
   "metadata": {},
   "outputs": [
    {
     "name": "stdout",
     "output_type": "stream",
     "text": [
      "squares_gen:  <generator object <genexpr> at 0x0000028D0D1057D0>\n"
     ]
    }
   ],
   "source": [
    "squares_gen = (x**2 for x in range(10))\n",
    "print('squares_gen: ', squares_gen)"
   ]
  },
  {
   "cell_type": "markdown",
   "metadata": {},
   "source": [
    "Default Dictionary\n",
    "\n",
    "The defaultdict from the collections module is a dictionary-like class that provides default values for missing keys."
   ]
  },
  {
   "cell_type": "code",
   "execution_count": 4,
   "metadata": {},
   "outputs": [
    {
     "name": "stdout",
     "output_type": "stream",
     "text": [
      "dd:  defaultdict(<class 'int'>, {})\n",
      "dd:  defaultdict(<class 'int'>, {'key': 1})\n"
     ]
    }
   ],
   "source": [
    "from collections import defaultdict\n",
    "\n",
    "dd = defaultdict(int)\n",
    "print('dd: ', dd)\n",
    "dd[\"key\"] += 1\n",
    "print('dd: ', dd)\n"
   ]
  },
  {
   "cell_type": "markdown",
   "metadata": {},
   "source": [
    "Named Tuples\n",
    "\n",
    "namedtuple creates tuple subclasses with named fields. This makes code more readable by accessing fields by name instead of position."
   ]
  },
  {
   "cell_type": "code",
   "execution_count": 5,
   "metadata": {},
   "outputs": [
    {
     "name": "stdout",
     "output_type": "stream",
     "text": [
      "Point:  <class '__main__.Point'>\n",
      "p:  Point(x=10, y=20)\n"
     ]
    }
   ],
   "source": [
    "from collections import namedtuple\n",
    "\n",
    "Point = namedtuple(\"Point\", \"x y\")\n",
    "print('Point: ', Point)\n",
    "p = Point(10, 20)\n",
    "print('p: ', p)"
   ]
  },
  {
   "cell_type": "markdown",
   "metadata": {},
   "source": [
    "Enumerate Function\n",
    "\n",
    "The enumerate function adds a counter to an iterable and returns it as an enumerate object. This is useful for obtaining both the index and the value in a loop."
   ]
  },
  {
   "cell_type": "code",
   "execution_count": 6,
   "metadata": {},
   "outputs": [
    {
     "name": "stdout",
     "output_type": "stream",
     "text": [
      "list_chr:  ['a', 'b', 'c']\n",
      "index: 0 value: a\n",
      "list_chr[0]: a\n",
      "index: 1 value: b\n",
      "list_chr[1]: b\n",
      "index: 2 value: c\n",
      "list_chr[2]: c\n"
     ]
    }
   ],
   "source": [
    "list_chr = [\"a\", \"b\", \"c\"]\n",
    "print('list_chr: ', list_chr)\n",
    "for index, value in enumerate(list_chr):\n",
    "    print('index:', index, 'value:', value)\n",
    "    print(f'list_chr[{index}]:', list_chr[index])"
   ]
  },
  {
   "cell_type": "markdown",
   "metadata": {},
   "source": [
    "Zip Function\n",
    "\n",
    "The zip function combines multiple iterables into a single iterable of tuples. This is useful for iterating over multiple sequences simultaneously."
   ]
  },
  {
   "cell_type": "code",
   "execution_count": 7,
   "metadata": {},
   "outputs": [
    {
     "name": "stdout",
     "output_type": "stream",
     "text": [
      "names:  ['a', 'b', 'c']\n",
      "ages:  [20, 25, 30]\n",
      "combined:  [('a', 20), ('b', 25), ('c', 30)]\n"
     ]
    }
   ],
   "source": [
    "names = [\"a\", \"b\", \"c\"]\n",
    "print('names: ', names)\n",
    "ages = [20, 25, 30]\n",
    "print('ages: ', ages)\n",
    "combined = list(zip(names, ages))\n",
    "print('combined: ', combined)"
   ]
  },
  {
   "cell_type": "markdown",
   "metadata": {},
   "source": [
    "Set Comprehensions\n",
    "\n",
    "Similar to list comprehensions, set comprehensions create sets in a concise way."
   ]
  },
  {
   "cell_type": "code",
   "execution_count": 8,
   "metadata": {},
   "outputs": [
    {
     "name": "stdout",
     "output_type": "stream",
     "text": [
      "unique_squares:  {0, 1, 64, 4, 36, 9, 16, 49, 81, 25}\n"
     ]
    }
   ],
   "source": [
    "unique_squares = {x**2 for x in range(10)}\n",
    "print('unique_squares: ', unique_squares)"
   ]
  },
  {
   "cell_type": "markdown",
   "metadata": {},
   "source": [
    "Frozenset\n",
    "\n",
    "A frozenset is an immutable set. It’s useful when you need a set that cannot be changed after creation."
   ]
  },
  {
   "cell_type": "code",
   "execution_count": 9,
   "metadata": {},
   "outputs": [
    {
     "name": "stdout",
     "output_type": "stream",
     "text": [
      "before_frozen:  [1, 2, 3, 2, 1]\n",
      "fs:  frozenset({1, 2, 3})\n",
      "set(fs):  {1, 2, 3}\n"
     ]
    }
   ],
   "source": [
    "before_frozen = [1, 2, 3, 2, 1]\n",
    "print('before_frozen: ', before_frozen)\n",
    "fs = frozenset(before_frozen)\n",
    "print('fs: ', fs)\n",
    "print('set(fs): ', set(fs))"
   ]
  },
  {
   "cell_type": "markdown",
   "metadata": {},
   "source": [
    "Counter\n",
    "\n",
    "The Counter class from the collections module counts the occurrences of elements in a collection. It’s useful for counting hashable objects."
   ]
  },
  {
   "cell_type": "code",
   "execution_count": 10,
   "metadata": {},
   "outputs": [
    {
     "name": "stdout",
     "output_type": "stream",
     "text": [
      "counts:  Counter({'b': 3, 'a': 2, 'c': 1})\n"
     ]
    }
   ],
   "source": [
    "from collections import Counter\n",
    "\n",
    "counts = Counter([\"a\", \"b\", \"c\", \"a\", \"b\", \"b\"])\n",
    "print('counts: ', counts)"
   ]
  },
  {
   "cell_type": "markdown",
   "metadata": {},
   "source": [
    "Context Managers\n",
    "\n",
    "Using the with statement, context managers handle resource management, like file I/O, efficiently and cleanly."
   ]
  },
  {
   "cell_type": "code",
   "execution_count": 11,
   "metadata": {},
   "outputs": [
    {
     "name": "stdout",
     "output_type": "stream",
     "text": [
      "{\n",
      " \"cells\": [\n",
      "  {\n",
      "   \"cell_type\": \"markdown\",\n",
      "   \"metadata\": {},\n",
      "   \"source\": [\n",
      "    \"# 13 Powerful Python Features YouвЂ™re Probably Not Using Enough\"\n",
      "   ]\n",
      "  },\n"
     ]
    }
   ],
   "source": [
    "with open(\"Powerful Python Features.ipynb\", \"r\") as file:\n",
    "    # contents = file.read()\n",
    "    # print('contents: ', contents)\n",
    "    lines = file.readlines()\n",
    "    for line in lines[:9]:\n",
    "        print(line, end='')"
   ]
  },
  {
   "cell_type": "markdown",
   "metadata": {},
   "source": [
    "dataclassклас \n",
    "\n",
    "The dataclass decorator simplifies class creation by automatically adding special methods like init and repr."
   ]
  },
  {
   "cell_type": "code",
   "execution_count": 12,
   "metadata": {},
   "outputs": [
    {
     "name": "stdout",
     "output_type": "stream",
     "text": [
      "p:  Point(x=5, y=10)\n"
     ]
    }
   ],
   "source": [
    "from dataclasses import dataclass\n",
    "\n",
    "@dataclass\n",
    "class Point:\n",
    "    x: int\n",
    "    y: int\n",
    "\n",
    "p = Point(5, 10) \n",
    "print('p: ', p)"
   ]
  },
  {
   "cell_type": "markdown",
   "metadata": {},
   "source": [
    "Decorators\n",
    "\n",
    "Decorators are functions that modify the behavior of other functions. They are useful for logging, access control, memoization, and more."
   ]
  },
  {
   "cell_type": "code",
   "execution_count": 13,
   "metadata": {},
   "outputs": [
    {
     "name": "stdout",
     "output_type": "stream",
     "text": [
      "Something is happening before the function is called.\n",
      "Hello!\n",
      "Something is happening after the function is called.\n"
     ]
    }
   ],
   "source": [
    "def my_decorator_(func):\n",
    "    def wrapper():\n",
    "        print(\"Something is happening before the function is called.\")\n",
    "        func()\n",
    "        print(\"Something is happening after the function is called.\")\n",
    "\n",
    "    return wrapper\n",
    "\n",
    "\n",
    "@my_decorator_\n",
    "def say_hello_():\n",
    "    print(\"Hello!\")\n",
    "\n",
    "say_hello_()"
   ]
  },
  {
   "cell_type": "code",
   "execution_count": 14,
   "metadata": {},
   "outputs": [
    {
     "name": "stdout",
     "output_type": "stream",
     "text": [
      "Something is happening before the function is called.\n",
      "args:  ('Bob', 'Nick', 'John')\n",
      "args[0]:  Bob\n",
      "args[1]:  Nick\n",
      "args[2]:  John\n",
      "Hello, Bob!\n",
      "Hello, Bob!\n",
      "Hello, Nick!\n",
      "Hello, John!\n",
      "names:  ['Bobik', 'Nickpuk']\n",
      "Hello, Bobik!\n",
      "Hello, Nickpuk!\n",
      "do nothing\n",
      "Hello, World!\n",
      "Hello, Michael!\n",
      "Something is happening after the function is called.\n",
      "Something is happening before the function is called.\n",
      "args:  ()\n",
      "function\n",
      "names:  []\n",
      "do nothing\n",
      "function\n",
      "function\n",
      "Something is happening after the function is called.\n",
      "Something is happening before the function is called.\n",
      "args:  ()\n",
      "Hello, World!\n",
      "names:  []\n",
      "do nothing\n",
      "Hello, World!\n",
      "Hello, Michael!\n",
      "Something is happening after the function is called.\n"
     ]
    }
   ],
   "source": [
    "def my_decorator(func):\n",
    "\n",
    "    def wrapper(*args):\n",
    "        names = []\n",
    "        print(\"Something is happening before the function is called.\")\n",
    "        print('args: ', args)\n",
    "        for i in range(len(args)):\n",
    "            print(f'args[{i}]: ', args[i])\n",
    "        func(*args)\n",
    "\n",
    "        for arg in args:\n",
    "            func(arg)\n",
    "\n",
    "        try:\n",
    "            names.append(args[0] + 'ik')\n",
    "            names.append(args[1] + 'pik')\n",
    "            names[1] = args[1] + 'puk'\n",
    "        except IndexError:\n",
    "            pass\n",
    "        except TypeError:\n",
    "            pass\n",
    "\n",
    "        print('names: ', names)\n",
    "\n",
    "        for name in names:\n",
    "            func(name)\n",
    "\n",
    "        print(\"do nothing\")\n",
    "        func()\n",
    "        func(\"Michael\")\n",
    "        print(\"Something is happening after the function is called.\")\n",
    "\n",
    "    return wrapper\n",
    "\n",
    "\n",
    "@my_decorator\n",
    "def say_hello(name=\"World\", *args):\n",
    "    print(f\"Hello, {name}!\")\n",
    "\n",
    "@my_decorator\n",
    "def function(*args):\n",
    "    print(\"function\")\n",
    "\n",
    "\n",
    "say_hello(\"Bob\", \"Nick\", \"John\")\n",
    "function()\n",
    "say_hello()"
   ]
  },
  {
   "cell_type": "markdown",
   "metadata": {},
   "source": [
    "Asyncio\n",
    "\n",
    "The asyncio module provides a framework for asynchronous programming. This is useful for I/O-bound and high-level structured network code."
   ]
  },
  {
   "cell_type": "code",
   "execution_count": 15,
   "metadata": {},
   "outputs": [
    {
     "ename": "RuntimeError",
     "evalue": "asyncio.run() cannot be called from a running event loop",
     "output_type": "error",
     "traceback": [
      "\u001b[1;31m---------------------------------------------------------------------------\u001b[0m",
      "\u001b[1;31mRuntimeError\u001b[0m                              Traceback (most recent call last)",
      "Cell \u001b[1;32mIn[15], line 10\u001b[0m\n\u001b[0;32m      6\u001b[0m     \u001b[38;5;28;01mawait\u001b[39;00m asyncio\u001b[38;5;241m.\u001b[39msleep(\u001b[38;5;241m1\u001b[39m)\n\u001b[0;32m      7\u001b[0m     \u001b[38;5;28mprint\u001b[39m(\u001b[38;5;124m\"\u001b[39m\u001b[38;5;124mWorld\u001b[39m\u001b[38;5;124m\"\u001b[39m)\n\u001b[1;32m---> 10\u001b[0m \u001b[43masyncio\u001b[49m\u001b[38;5;241;43m.\u001b[39;49m\u001b[43mrun\u001b[49m\u001b[43m(\u001b[49m\u001b[43mmain\u001b[49m\u001b[43m(\u001b[49m\u001b[43m)\u001b[49m\u001b[43m)\u001b[49m\n",
      "File \u001b[1;32m~\\AppData\\Local\\Programs\\Python\\Python312\\Lib\\asyncio\\runners.py:190\u001b[0m, in \u001b[0;36mrun\u001b[1;34m(main, debug, loop_factory)\u001b[0m\n\u001b[0;32m    161\u001b[0m \u001b[38;5;250m\u001b[39m\u001b[38;5;124;03m\"\"\"Execute the coroutine and return the result.\u001b[39;00m\n\u001b[0;32m    162\u001b[0m \n\u001b[0;32m    163\u001b[0m \u001b[38;5;124;03mThis function runs the passed coroutine, taking care of\u001b[39;00m\n\u001b[1;32m   (...)\u001b[0m\n\u001b[0;32m    186\u001b[0m \u001b[38;5;124;03m    asyncio.run(main())\u001b[39;00m\n\u001b[0;32m    187\u001b[0m \u001b[38;5;124;03m\"\"\"\u001b[39;00m\n\u001b[0;32m    188\u001b[0m \u001b[38;5;28;01mif\u001b[39;00m events\u001b[38;5;241m.\u001b[39m_get_running_loop() \u001b[38;5;129;01mis\u001b[39;00m \u001b[38;5;129;01mnot\u001b[39;00m \u001b[38;5;28;01mNone\u001b[39;00m:\n\u001b[0;32m    189\u001b[0m     \u001b[38;5;66;03m# fail fast with short traceback\u001b[39;00m\n\u001b[1;32m--> 190\u001b[0m     \u001b[38;5;28;01mraise\u001b[39;00m \u001b[38;5;167;01mRuntimeError\u001b[39;00m(\n\u001b[0;32m    191\u001b[0m         \u001b[38;5;124m\"\u001b[39m\u001b[38;5;124masyncio.run() cannot be called from a running event loop\u001b[39m\u001b[38;5;124m\"\u001b[39m)\n\u001b[0;32m    193\u001b[0m \u001b[38;5;28;01mwith\u001b[39;00m Runner(debug\u001b[38;5;241m=\u001b[39mdebug, loop_factory\u001b[38;5;241m=\u001b[39mloop_factory) \u001b[38;5;28;01mas\u001b[39;00m runner:\n\u001b[0;32m    194\u001b[0m     \u001b[38;5;28;01mreturn\u001b[39;00m runner\u001b[38;5;241m.\u001b[39mrun(main)\n",
      "\u001b[1;31mRuntimeError\u001b[0m: asyncio.run() cannot be called from a running event loop"
     ]
    },
    {
     "ename": "",
     "evalue": "",
     "output_type": "error",
     "traceback": [
      "\u001b[1;31mThe Kernel crashed while executing code in the current cell or a previous cell. \n",
      "\u001b[1;31mPlease review the code in the cell(s) to identify a possible cause of the failure. \n",
      "\u001b[1;31mClick <a href='https://aka.ms/vscodeJupyterKernelCrash'>here</a> for more info. \n",
      "\u001b[1;31mView Jupyter <a href='command:jupyter.viewOutput'>log</a> for further details."
     ]
    }
   ],
   "source": [
    "import asyncio\n",
    "\n",
    "\n",
    "async def main():\n",
    "    print(\"Hello\")\n",
    "    await asyncio.sleep(1)\n",
    "    print(\"World\")\n",
    "\n",
    "\n",
    "asyncio.run(main())"
   ]
  }
 ],
 "metadata": {
  "kernelspec": {
   "display_name": "from-twitter-g37Wghhs-py3.12",
   "language": "python",
   "name": "python3"
  },
  "language_info": {
   "codemirror_mode": {
    "name": "ipython",
    "version": 3
   },
   "file_extension": ".py",
   "mimetype": "text/x-python",
   "name": "python",
   "nbconvert_exporter": "python",
   "pygments_lexer": "ipython3",
   "version": "3.12.5"
  }
 },
 "nbformat": 4,
 "nbformat_minor": 2
}
